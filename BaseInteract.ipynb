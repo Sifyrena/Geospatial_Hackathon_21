{
 "cells": [
  {
   "cell_type": "code",
   "execution_count": 1,
   "id": "a0e32adb",
   "metadata": {},
   "outputs": [],
   "source": [
    "import matplotlib.pyplot as plt\n",
    "import numpy as np\n",
    "\n",
    "plt.style.use('default')\n",
    "\n",
    "plt.rcParams['font.family'] = 'DejaVu Serif'\n",
    "plt.rcParams['font.size'] = 18\n",
    "plt.rcParams['axes.linewidth'] = 2\n",
    "\n",
    "Palette = 'magma'\n",
    "CycPalette = 'Greys'\n",
    "DivPalette = 'RdYlGn'\n",
    "\n",
    "FigSize = (20,12)\n",
    "FigSizeMono = (20,6)\n",
    "DPI = 72"
   ]
  },
  {
   "cell_type": "code",
   "execution_count": 2,
   "id": "e8dc9237",
   "metadata": {},
   "outputs": [],
   "source": [
    "import ipywidgets as widgets"
   ]
  },
  {
   "cell_type": "code",
   "execution_count": 3,
   "id": "53c11180",
   "metadata": {},
   "outputs": [],
   "source": [
    "a = widgets.FloatSlider(\n",
    "    value=7.5,\n",
    "    min=0,\n",
    "    max=10.0,\n",
    "    step=0.1,\n",
    "    description='Test:',\n",
    "    disabled=False,\n",
    "    continuous_update=False,\n",
    "    orientation='horizontal',\n",
    "    readout=True,\n",
    "    readout_format='.1f',\n",
    ")\n",
    "\n",
    "import IPython"
   ]
  },
  {
   "cell_type": "code",
   "execution_count": 18,
   "id": "1df8c8ca",
   "metadata": {},
   "outputs": [
    {
     "data": {
      "application/vnd.jupyter.widget-view+json": {
       "model_id": "f045fa855db54e3ba335686ac120edbb",
       "version_major": 2,
       "version_minor": 0
      },
      "text/plain": [
       "Output(layout=Layout(border='5px solid white', height='500px', width='300px'))"
      ]
     },
     "metadata": {},
     "output_type": "display_data"
    }
   ],
   "source": [
    "out = widgets.Output(layout={'border': '5px solid white','height': '500px','width': '300px'})\n",
    "\n",
    "out"
   ]
  },
  {
   "cell_type": "code",
   "execution_count": 17,
   "id": "6ff80880",
   "metadata": {},
   "outputs": [],
   "source": [
    "with out:\n",
    "    for i in range(10):\n",
    "        print(i, 'Hello world!')"
   ]
  },
  {
   "cell_type": "code",
   "execution_count": 14,
   "id": "be1466da",
   "metadata": {},
   "outputs": [
    {
     "data": {
      "application/vnd.jupyter.widget-view+json": {
       "model_id": "6118ddef402d4aa7917f3f82728c1b21",
       "version_major": 2,
       "version_minor": 0
      },
      "text/plain": [
       "Output(layout=Layout(border='1px solid black'), outputs=({'output_type': 'stream', 'name': 'stdout', 'text': '…"
      ]
     },
     "metadata": {},
     "output_type": "display_data"
    }
   ],
   "source": [
    "from IPython.display import YouTubeVideo\n",
    "\n",
    "out = widgets.Output(layout={'border': '1px solid black'})\n",
    "out.append_stdout('Output appended with append_stdout')\n",
    "out"
   ]
  },
  {
   "cell_type": "code",
   "execution_count": 15,
   "id": "0d8d0dbb",
   "metadata": {},
   "outputs": [],
   "source": [
    "\n",
    "with out:\n",
    "    display(widgets.IntSlider())"
   ]
  },
  {
   "cell_type": "code",
   "execution_count": 78,
   "id": "049d007f",
   "metadata": {
    "scrolled": false
   },
   "outputs": [
    {
     "data": {
      "application/vnd.jupyter.widget-view+json": {
       "model_id": "ad7c0308d58a4204b5b885e6c7f33345",
       "version_major": 2,
       "version_minor": 0
      },
      "text/plain": [
       "Map(center=[-42.404446107412646, 173.67427500707868], controls=(ZoomControl(options=['position', 'zoom_in_text…"
      ]
     },
     "metadata": {},
     "output_type": "display_data"
    },
    {
     "name": "stdout",
     "output_type": "stream",
     "text": [
      "2989.682816445348\n",
      "2989.682816445348\n",
      "1378.1076129579428\n",
      "1378.1076129579428\n",
      "3818.0475144494403\n",
      "3818.0475144494403\n",
      "4368.695440853439\n",
      "4368.695440853439\n"
     ]
    }
   ],
   "source": [
    "pi = np.pi\n",
    "\n",
    "def SphericalDistance(PtA,PtB):\n",
    "    \n",
    "    PtALat = PtA[0] * pi / 180\n",
    "    PtALon = PtA[1] * pi / 180\n",
    "    \n",
    "    PtBLat = PtB[0] * pi / 180\n",
    "    PtBLon = PtB[1] * pi / 180\n",
    "                \n",
    "    rTerra = 6371009 # metres\n",
    "                 \n",
    "    return 2*rTerra*np.arcsin(np.sqrt(np.sin((PtALat-PtBLat)/2)**2+np.cos(PtALat)*np.cos(PtBLat)*np.sin((PtALon-PtBLon)/2)**2))\n",
    "                 \n",
    "                 \n",
    "                 \n",
    "                 \n",
    "\n",
    "KeyLocation = (-42.404446107412646, 173.67427500707868)\n",
    "\n",
    "center=(-42.404446107412646, 173.67427500707868)\n",
    "\n",
    "\n",
    "from ipyleaflet import Map, basemaps, basemap_to_tiles, Marker, CircleMarker\n",
    "\n",
    "m = Map(\n",
    "    center=center,\n",
    "    zoom=12,\n",
    "    title = 'Group 11'\n",
    "    )\n",
    "\n",
    "m.layout.width = '75%'\n",
    "m.layout.height = '500px'\n",
    "\n",
    "m.layout.arrange= 'center'\n",
    "marker = Marker(location=center, draggable=True)\n",
    "\n",
    "m.add_layer(marker)\n",
    "\n",
    "def handle_click(**kwargs):\n",
    "    print(kwargs['coordinates'])\n",
    "    \n",
    "marker.on_click(handle_click)\n",
    "\n",
    "markerU = CircleMarker(location=(0,0), draggable=True)\n",
    "\n",
    "def handle_map_interaction(**kwargs):\n",
    "    \n",
    "    if kwargs['type'] == 'click':\n",
    "    \n",
    "        NLoc =  kwargs['coordinates']\n",
    "        \n",
    "        markerU = CircleMarker(location=NLoc, draggable=True, color = 'red')\n",
    "        \n",
    "        m.add_layer(markerU)\n",
    "        \n",
    "        print(SphericalDistance(KeyLocation,NLoc))\n",
    "       \n",
    "m.on_interaction(handle_map_interaction)\n",
    "\n",
    "m"
   ]
  },
  {
   "cell_type": "code",
   "execution_count": 59,
   "id": "1b0975f8",
   "metadata": {},
   "outputs": [
    {
     "name": "stdout",
     "output_type": "stream",
     "text": [
      "1.5707963267948966\n"
     ]
    }
   ],
   "source": [
    "print(np.arcsin(1))"
   ]
  },
  {
   "cell_type": "code",
   "execution_count": 67,
   "id": "4c827232",
   "metadata": {},
   "outputs": [
    {
     "data": {
      "text/plain": [
       "6371009.0"
      ]
     },
     "execution_count": 67,
     "metadata": {},
     "output_type": "execute_result"
    }
   ],
   "source": []
  },
  {
   "cell_type": "code",
   "execution_count": null,
   "id": "be65b84b",
   "metadata": {},
   "outputs": [],
   "source": []
  }
 ],
 "metadata": {
  "kernelspec": {
   "display_name": "Python 3",
   "language": "python",
   "name": "python3"
  },
  "language_info": {
   "codemirror_mode": {
    "name": "ipython",
    "version": 3
   },
   "file_extension": ".py",
   "mimetype": "text/x-python",
   "name": "python",
   "nbconvert_exporter": "python",
   "pygments_lexer": "ipython3",
   "version": "3.8.8"
  },
  "toc": {
   "base_numbering": 1,
   "nav_menu": {},
   "number_sections": true,
   "sideBar": true,
   "skip_h1_title": false,
   "title_cell": "Table of Contents",
   "title_sidebar": "Contents",
   "toc_cell": false,
   "toc_position": {},
   "toc_section_display": true,
   "toc_window_display": false
  }
 },
 "nbformat": 4,
 "nbformat_minor": 5
}
