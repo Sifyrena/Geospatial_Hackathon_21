{
 "cells": [
  {
   "cell_type": "code",
   "execution_count": 1,
   "id": "a0e32adb",
   "metadata": {},
   "outputs": [],
   "source": [
    "import matplotlib.pyplot as plt\n",
    "import numpy as np\n",
    "\n",
    "plt.style.use('default')\n",
    "\n",
    "plt.rcParams['font.family'] = 'DejaVu Serif'\n",
    "plt.rcParams['font.size'] = 18\n",
    "plt.rcParams['axes.linewidth'] = 2\n",
    "\n",
    "Palette = 'magma'\n",
    "CycPalette = 'Greys'\n",
    "DivPalette = 'RdYlGn'\n",
    "\n",
    "FigSize = (20,12)\n",
    "FigSizeMono = (20,6)\n",
    "DPI = 72"
   ]
  },
  {
   "cell_type": "code",
   "execution_count": 84,
   "id": "e8dc9237",
   "metadata": {},
   "outputs": [],
   "source": [
    "import ipywidgets as widgets\n",
    "\n",
    "from ipywidgets import HTML"
   ]
  },
  {
   "cell_type": "code",
   "execution_count": 100,
   "id": "049d007f",
   "metadata": {
    "scrolled": false
   },
   "outputs": [
    {
     "data": {
      "application/vnd.jupyter.widget-view+json": {
       "model_id": "20d393faa7564317aa08ff5430e7e14c",
       "version_major": 2,
       "version_minor": 0
      },
      "text/plain": [
       "Map(center=[-42.404446107412646, 173.67427500707868], controls=(ZoomControl(options=['position', 'zoom_in_text…"
      ]
     },
     "metadata": {},
     "output_type": "display_data"
    }
   ],
   "source": [
    "pi = np.pi\n",
    "\n",
    "\n",
    "UserL = 2\n",
    "MBoxL = 3\n",
    "\n",
    "\n",
    "def SphericalDistance(PtA,PtB):\n",
    "    \n",
    "    PtALat = PtA[0] * pi / 180\n",
    "    PtALon = PtA[1] * pi / 180\n",
    "    \n",
    "    PtBLat = PtB[0] * pi / 180\n",
    "    PtBLon = PtB[1] * pi / 180\n",
    "                \n",
    "    rTerra = 6371009 # metres\n",
    "                 \n",
    "    return 2*rTerra*np.arcsin(np.sqrt(np.sin((PtALat-PtBLat)/2)**2+np.cos(PtALat)*np.cos(PtBLat)*np.sin((PtALon-PtBLon)/2)**2))\n",
    "                 \n",
    "                       \n",
    "\n",
    "KeyLocation = (-42.40469961745638, 173.68168174089007)\n",
    "center=(-42.404446107412646, 173.67427500707868)\n",
    "\n",
    "\n",
    "from ipyleaflet import Map, basemaps, basemap_to_tiles, Marker, CircleMarker, Popup\n",
    "\n",
    "m = Map(\n",
    "    center=center,\n",
    "    zoom=12,\n",
    "    title = 'Group 11'\n",
    "    )\n",
    "\n",
    "m.layout.width = '75%'\n",
    "m.layout.height = '500px'\n",
    "\n",
    "m.layout.arrange= 'center'\n",
    "\n",
    "marker = Marker(location=center, draggable=False)\n",
    "m.add_layer(marker)\n",
    "\n",
    "\n",
    "def handle_click(**kwargs):\n",
    "    print(f\"Hospital Location (Lat / Lon): {kwargs['coordinates']}\")\n",
    "    \n",
    "marker.on_click(handle_click)\n",
    "\n",
    "\n",
    "# User Clickable Interaction\n",
    "\n",
    "Ci = 0\n",
    "Clicked = False\n",
    "def handle_map_interaction(**kwargs):\n",
    "   # markerU = CircleMarker(location=(0,0), draggable=True, visible = False)\n",
    "   # m.add_layer(markerU)\n",
    "    #m.add_layer(markerU)\n",
    "    global Clicked, Ci, marker\n",
    "    #print(kwargs)\n",
    "    Ci += 1\n",
    "    if kwargs['type'] == 'click' and Clicked == False:\n",
    "        Clicked = True\n",
    "        \n",
    "        NLoc =  kwargs['coordinates']\n",
    "        \n",
    "        markerU = CircleMarker(location=NLoc, draggable=True, color = '#454545')\n",
    "        try:\n",
    "            m.substitute_layer(m.layers[UserL],markerU)\n",
    "            m.remove_layer(m.layers[MBoxL])\n",
    "        except IndexError:\n",
    "            m.add_layer(markerU)\n",
    "            \n",
    "        message = HTML()\n",
    "        \n",
    "        D = SphericalDistance(KeyLocation,NLoc)\n",
    "        \n",
    "        message.value = f'Risk index is .<br>Distance to Nearest Hospital: {D:.5g}m<br>This is about {D/1.2/60:.0f} minutes on foot.'\n",
    "        \n",
    "        popup = Popup(\n",
    "        location=NLoc,\n",
    "        close_button=False,\n",
    "        auto_close=False,\n",
    "        child = message,\n",
    "        close_on_escape_key=True\n",
    "        )\n",
    "        m.add_layer(popup)\n",
    "\n",
    "        # Popup associated to a layer\n",
    "        markerU.popup = message\n",
    "\n",
    "        \n",
    "\n",
    "    if Ci%2 == 0:\n",
    "        Clicked = False\n",
    "        \n",
    "m.on_interaction(handle_map_interaction)\n",
    "\n",
    "# Popup with a given location on the map:\n",
    "\n",
    "\n",
    "m"
   ]
  },
  {
   "cell_type": "code",
   "execution_count": 59,
   "id": "1b0975f8",
   "metadata": {},
   "outputs": [
    {
     "name": "stdout",
     "output_type": "stream",
     "text": [
      "1.5707963267948966\n"
     ]
    }
   ],
   "source": [
    "print(np.arcsin(1))"
   ]
  },
  {
   "cell_type": "code",
   "execution_count": 67,
   "id": "4c827232",
   "metadata": {},
   "outputs": [
    {
     "data": {
      "text/plain": [
       "6371009.0"
      ]
     },
     "execution_count": 67,
     "metadata": {},
     "output_type": "execute_result"
    }
   ],
   "source": []
  },
  {
   "cell_type": "code",
   "execution_count": 60,
   "id": "be65b84b",
   "metadata": {
    "scrolled": false
   },
   "outputs": [
    {
     "data": {
      "text/plain": [
       "(TileLayer(base=True, max_zoom=19, min_zoom=1, options=['attribution', 'detect_retina', 'max_native_zoom', 'max_zoom', 'min_native_zoom', 'min_zoom', 'no_wrap', 'tile_size', 'tms']),\n",
       " Marker(draggable=False, location=[-42.404446107412646, 173.67427500707868], options=['alt', 'draggable', 'keyboard', 'rise_offset', 'rise_on_hover', 'rotation_angle', 'rotation_origin', 'title', 'z_index_offset']))"
      ]
     },
     "execution_count": 60,
     "metadata": {},
     "output_type": "execute_result"
    }
   ],
   "source": [
    "m.layers"
   ]
  },
  {
   "cell_type": "code",
   "execution_count": null,
   "id": "41fcafb0",
   "metadata": {},
   "outputs": [],
   "source": []
  }
 ],
 "metadata": {
  "kernelspec": {
   "display_name": "Python 3",
   "language": "python",
   "name": "python3"
  },
  "language_info": {
   "codemirror_mode": {
    "name": "ipython",
    "version": 3
   },
   "file_extension": ".py",
   "mimetype": "text/x-python",
   "name": "python",
   "nbconvert_exporter": "python",
   "pygments_lexer": "ipython3",
   "version": "3.8.8"
  },
  "toc": {
   "base_numbering": 1,
   "nav_menu": {},
   "number_sections": true,
   "sideBar": true,
   "skip_h1_title": false,
   "title_cell": "Table of Contents",
   "title_sidebar": "Contents",
   "toc_cell": false,
   "toc_position": {},
   "toc_section_display": true,
   "toc_window_display": false
  }
 },
 "nbformat": 4,
 "nbformat_minor": 5
}
